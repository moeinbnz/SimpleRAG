{
  "cells": [
    {
      "cell_type": "code",
      "execution_count": null,
      "metadata": {
        "id": "8uu8vcss7mkJ"
      },
      "outputs": [
        {
          "ename": "",
          "evalue": "",
          "output_type": "error",
          "traceback": [
            "\u001b[1;31mRunning cells with 'c:\\Users\\MOEIN\\AppData\\Local\\Programs\\Python\\Python311\\python.exe' requires ipykernel package.\n",
            "\u001b[1;31mRun the following command to install 'ipykernel' into the Python environment. \n",
            "\u001b[1;31mCommand: 'c:/Users/MOEIN/AppData/Local/Programs/Python/Python311/python.exe -m pip install ipykernel -U --user --force-reinstall'"
          ]
        }
      ],
      "source": [
        "!pip install faiss-cpu transformers sentence-transformers"
      ]
    },
    {
      "cell_type": "code",
      "execution_count": null,
      "metadata": {
        "id": "UgXq6VftpPpY"
      },
      "outputs": [
        {
          "ename": "",
          "evalue": "",
          "output_type": "error",
          "traceback": [
            "\u001b[1;31mRunning cells with 'c:\\Users\\MOEIN\\AppData\\Local\\Programs\\Python\\Python311\\python.exe' requires ipykernel package.\n",
            "\u001b[1;31mRun the following command to install 'ipykernel' into the Python environment. \n",
            "\u001b[1;31mCommand: 'c:/Users/MOEIN/AppData/Local/Programs/Python/Python311/python.exe -m pip install ipykernel -U --user --force-reinstall'"
          ]
        }
      ],
      "source": [
        "import faiss\n",
        "import numpy as np\n",
        "from sentence_transformers import SentenceTransformer\n",
        "from transformers import pipeline\n",
        "\n",
        "documents = [\n",
        "    \"Houman is 23 years old.\",\n",
        "    \"The food is made of vegetables and meat.\",\n",
        "    \"Tina is good at computer programming.\"\n",
        "]\n",
        "\n",
        "embed_model = SentenceTransformer(\"sentence-transformers/all-MiniLM-L6-v2\")\n",
        "doc_embeddings = embed_model.encode(documents, truncation=True)  \n",
        "\n",
        "index = faiss.IndexFlatL2(doc_embeddings.shape[1])\n",
        "index.add(np.array(doc_embeddings, dtype=np.float32))\n",
        "\n",
        "llm = pipeline(\"text-generation\", model=\"tiiuae/falcon-rw-1b\", device=\"cpu\")\n",
        "\n",
        "def rag_respond(query):\n",
        "    query_embedding = embed_model.encode([query], truncation=True)  \n",
        "    _, indices = index.search(np.array(query_embedding, dtype=np.float32), 1)\n",
        "    best_doc = documents[indices[0][0]]\n",
        "\n",
        "    prompt = f\"Question: {query}\\nRelated Knowledge: {best_doc}\"\n",
        "    response = llm(prompt, max_new_tokens=50, do_sample=True)[0][\"generated_text\"]\n",
        "\n",
        "    return response\n",
        "\n",
        "question = \"What do you know about Houman\"\n",
        "answer = rag_respond(question)\n",
        "print(answer)\n"
      ]
    },
    {
      "cell_type": "code",
      "execution_count": null,
      "metadata": {
        "id": "ziMdMwqpv1B0"
      },
      "outputs": [
        {
          "ename": "",
          "evalue": "",
          "output_type": "error",
          "traceback": [
            "\u001b[1;31mRunning cells with 'c:\\Users\\MOEIN\\AppData\\Local\\Programs\\Python\\Python311\\python.exe' requires ipykernel package.\n",
            "\u001b[1;31mRun the following command to install 'ipykernel' into the Python environment. \n",
            "\u001b[1;31mCommand: 'c:/Users/MOEIN/AppData/Local/Programs/Python/Python311/python.exe -m pip install ipykernel -U --user --force-reinstall'"
          ]
        }
      ],
      "source": []
    }
  ],
  "metadata": {
    "colab": {
      "private_outputs": true,
      "provenance": []
    },
    "kernelspec": {
      "display_name": "Python 3",
      "language": "python",
      "name": "python3"
    },
    "language_info": {
      "name": "python",
      "version": "3.11.2 (tags/v3.11.2:878ead1, Feb  7 2023, 16:38:35) [MSC v.1934 64 bit (AMD64)]"
    },
    "vscode": {
      "interpreter": {
        "hash": "12a34f73b7a6e6b3661394f2a3e2350a2d154287667f1bc941bf5d6a705de5da"
      }
    }
  },
  "nbformat": 4,
  "nbformat_minor": 0
}
